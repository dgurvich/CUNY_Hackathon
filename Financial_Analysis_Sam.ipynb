{
  "nbformat": 4,
  "nbformat_minor": 0,
  "metadata": {
    "colab": {
      "name": "Financial_Analysis.ipynb",
      "provenance": []
    },
    "kernelspec": {
      "name": "python3",
      "display_name": "Python 3"
    }
  },
  "cells": [
    {
      "cell_type": "code",
      "metadata": {
        "colab": {
          "base_uri": "https://localhost:8080/"
        },
        "id": "w7QVOJhqu0yv",
        "outputId": "09dddd43-9f56-4504-966b-f4bf9cf18ba7"
      },
      "source": [
        "# !pip install pyEX\n",
        "!pip install iexfinance"
      ],
      "execution_count": 114,
      "outputs": [
        {
          "output_type": "stream",
          "text": [
            "Requirement already satisfied: iexfinance in /usr/local/lib/python3.6/dist-packages (0.5.0)\n",
            "Requirement already satisfied: requests in /usr/local/lib/python3.6/dist-packages (from iexfinance) (2.23.0)\n",
            "Requirement already satisfied: pandas in /usr/local/lib/python3.6/dist-packages (from iexfinance) (1.1.5)\n",
            "Requirement already satisfied: chardet<4,>=3.0.2 in /usr/local/lib/python3.6/dist-packages (from requests->iexfinance) (3.0.4)\n",
            "Requirement already satisfied: urllib3!=1.25.0,!=1.25.1,<1.26,>=1.21.1 in /usr/local/lib/python3.6/dist-packages (from requests->iexfinance) (1.24.3)\n",
            "Requirement already satisfied: certifi>=2017.4.17 in /usr/local/lib/python3.6/dist-packages (from requests->iexfinance) (2020.12.5)\n",
            "Requirement already satisfied: idna<3,>=2.5 in /usr/local/lib/python3.6/dist-packages (from requests->iexfinance) (2.10)\n",
            "Requirement already satisfied: numpy>=1.15.4 in /usr/local/lib/python3.6/dist-packages (from pandas->iexfinance) (1.19.5)\n",
            "Requirement already satisfied: pytz>=2017.2 in /usr/local/lib/python3.6/dist-packages (from pandas->iexfinance) (2020.5)\n",
            "Requirement already satisfied: python-dateutil>=2.7.3 in /usr/local/lib/python3.6/dist-packages (from pandas->iexfinance) (2.8.1)\n",
            "Requirement already satisfied: six>=1.5 in /usr/local/lib/python3.6/dist-packages (from python-dateutil>=2.7.3->pandas->iexfinance) (1.15.0)\n"
          ],
          "name": "stdout"
        }
      ]
    },
    {
      "cell_type": "code",
      "metadata": {
        "id": "81kwrtiqvL73"
      },
      "source": [
        "import pandas as pd\n",
        "import matplotlib.pyplot as plt\n",
        "import numpy as np\n",
        "from iexfinance.stocks import Stock\n",
        "import pyEX as p"
      ],
      "execution_count": 115,
      "outputs": []
    },
    {
      "cell_type": "code",
      "metadata": {
        "id": "GkDe50GuvQSO"
      },
      "source": [
        "c= p.Client(api_token = 'Tpk_3cd1f8cfeb4a4f849c4b5688a752e3d4', version = 'sandbox')"
      ],
      "execution_count": 116,
      "outputs": []
    },
    {
      "cell_type": "code",
      "metadata": {
        "id": "lCF18OKRvfj9"
      },
      "source": [
        "def get_data(symbol):\n",
        "    global stock\n",
        "    stock = c.chartDF(symbol, timeframe = '5y')\n",
        "    global stock_df\n",
        "    stock_df = stock[['open', 'close', 'high', 'low', 'volume']]\n",
        "    \n",
        "    return stock_df"
      ],
      "execution_count": 117,
      "outputs": []
    },
    {
      "cell_type": "code",
      "metadata": {
        "id": "8oD9uwlcvhbX",
        "colab": {
          "base_uri": "https://localhost:8080/"
        },
        "outputId": "9545618f-984b-4fbc-c456-1d9a42d61dcf"
      },
      "source": [
        "tesla = get_data(\"TSLA\")\r\n",
        "\r\n",
        "print(tesla)"
      ],
      "execution_count": 118,
      "outputs": [
        {
          "output_type": "stream",
          "text": [
            "               open    close      high       low    volume\n",
            "date                                                      \n",
            "2021-01-22  850.720  886.600  879.0000  864.9400  20982459\n",
            "2021-01-21  873.000  848.460  863.8689  873.3006  20986180\n",
            "2021-01-20  869.190  875.670  890.8000  870.4200  25700864\n",
            "2021-01-19  861.300  886.450  860.0000  858.0000  25733233\n",
            "2021-01-15  868.000  842.560  865.0000  836.3000  39619684\n",
            "...             ...      ...       ...       ...       ...\n",
            "2016-01-29   39.510   39.870   39.6690   38.7050  14329336\n",
            "2016-01-28   39.844   39.740   39.5630   36.9720  23724923\n",
            "2016-01-27   38.530   37.763   39.6860   38.9300  18822680\n",
            "2016-01-26   41.080   40.485   40.5710   39.2130  25716198\n",
            "2016-01-25   40.389   39.438   41.1890   40.6290  13544283\n",
            "\n",
            "[1259 rows x 5 columns]\n"
          ],
          "name": "stdout"
        }
      ]
    },
    {
      "cell_type": "code",
      "metadata": {
        "id": "mRSPKLV5vjOL",
        "colab": {
          "base_uri": "https://localhost:8080/",
          "height": 54
        },
        "outputId": "c47394e7-d896-45dd-bd00-ca63aa52e418"
      },
      "source": [
        "'''def plot_closing(stockName):\n",
        "    x = stockName.index\n",
        "    y = stockName.close\n",
        "    plt.xlabel(\"Time\")\n",
        "    plt.ylabel(\"Close Price\")\n",
        "    plt.plot(x,y)\n",
        "    \n",
        "    return plt.show()'''"
      ],
      "execution_count": 119,
      "outputs": [
        {
          "output_type": "execute_result",
          "data": {
            "application/vnd.google.colaboratory.intrinsic+json": {
              "type": "string"
            },
            "text/plain": [
              "'def plot_closing(stockName):\\n    x = stockName.index\\n    y = stockName.close\\n    plt.xlabel(\"Time\")\\n    plt.ylabel(\"Close Price\")\\n    plt.plot(x,y)\\n    \\n    return plt.show()'"
            ]
          },
          "metadata": {
            "tags": []
          },
          "execution_count": 119
        }
      ]
    },
    {
      "cell_type": "code",
      "metadata": {
        "id": "8sz8yYS5vmhG"
      },
      "source": [
        "# plot_closing('tesla')"
      ],
      "execution_count": 120,
      "outputs": []
    },
    {
      "cell_type": "code",
      "metadata": {
        "id": "DRNo_25F28w0",
        "colab": {
          "base_uri": "https://localhost:8080/"
        },
        "outputId": "11958499-649e-4d29-e8ae-85f1450f3cc0"
      },
      "source": [
        "# !pip install sklearn\r\n",
        "import sklearn\r\n",
        "from sklearn.model_selection import train_test_split\r\n",
        "from sklearn.linear_model import LinearRegression\r\n",
        "from sklearn.preprocessing import PolynomialFeatures\r\n",
        "\r\n",
        "X = stock_df[['open', 'high', 'low', 'volume']]\r\n",
        "y = stock_df['close']\r\n",
        "\r\n",
        "transformer = PolynomialFeatures(degree=2, include_bias=False)\r\n",
        "\r\n",
        "transformer.fit(X)\r\n",
        "\r\n",
        "X = transformer.transform(X)\r\n",
        "\r\n",
        "X_train, X_test, y_train, y_test = train_test_split(X, y, test_size=0.4, random_state=1)\r\n",
        "\r\n",
        "clf = LinearRegression().fit(X_train,y_train)\r\n",
        "\r\n",
        "clf.score(X_train, y_train)\r\n"
      ],
      "execution_count": 157,
      "outputs": [
        {
          "output_type": "execute_result",
          "data": {
            "text/plain": [
              "0.99927355257609"
            ]
          },
          "metadata": {
            "tags": []
          },
          "execution_count": 157
        }
      ]
    }
  ]
}