{
  "nbformat": 4,
  "nbformat_minor": 0,
  "metadata": {
    "colab": {
      "name": "Financial_Analysis.ipynb",
      "provenance": []
    },
    "kernelspec": {
      "name": "python3",
      "display_name": "Python 3"
    }
  },
  "cells": [
    {
      "cell_type": "code",
      "metadata": {
        "colab": {
          "base_uri": "https://localhost:8080/"
        },
        "id": "w7QVOJhqu0yv",
        "outputId": "699e8dc0-cb25-465c-f80b-c7f3e106c95a"
      },
      "source": [
        "# !pip install pyEX\n",
        "!pip install iexfinance"
      ],
      "execution_count": 425,
      "outputs": [
        {
          "output_type": "stream",
          "text": [
            "Requirement already satisfied: iexfinance in /usr/local/lib/python3.6/dist-packages (0.5.0)\n",
            "Requirement already satisfied: requests in /usr/local/lib/python3.6/dist-packages (from iexfinance) (2.23.0)\n",
            "Requirement already satisfied: pandas in /usr/local/lib/python3.6/dist-packages (from iexfinance) (1.1.5)\n",
            "Requirement already satisfied: idna<3,>=2.5 in /usr/local/lib/python3.6/dist-packages (from requests->iexfinance) (2.10)\n",
            "Requirement already satisfied: certifi>=2017.4.17 in /usr/local/lib/python3.6/dist-packages (from requests->iexfinance) (2020.12.5)\n",
            "Requirement already satisfied: urllib3!=1.25.0,!=1.25.1,<1.26,>=1.21.1 in /usr/local/lib/python3.6/dist-packages (from requests->iexfinance) (1.24.3)\n",
            "Requirement already satisfied: chardet<4,>=3.0.2 in /usr/local/lib/python3.6/dist-packages (from requests->iexfinance) (3.0.4)\n",
            "Requirement already satisfied: pytz>=2017.2 in /usr/local/lib/python3.6/dist-packages (from pandas->iexfinance) (2020.5)\n",
            "Requirement already satisfied: python-dateutil>=2.7.3 in /usr/local/lib/python3.6/dist-packages (from pandas->iexfinance) (2.8.1)\n",
            "Requirement already satisfied: numpy>=1.15.4 in /usr/local/lib/python3.6/dist-packages (from pandas->iexfinance) (1.19.5)\n",
            "Requirement already satisfied: six>=1.5 in /usr/local/lib/python3.6/dist-packages (from python-dateutil>=2.7.3->pandas->iexfinance) (1.15.0)\n"
          ],
          "name": "stdout"
        }
      ]
    },
    {
      "cell_type": "code",
      "metadata": {
        "id": "81kwrtiqvL73"
      },
      "source": [
        "import pandas as pd\n",
        "import matplotlib.pyplot as plt\n",
        "import numpy as np\n",
        "from iexfinance.stocks import Stock\n",
        "import pyEX as p"
      ],
      "execution_count": 426,
      "outputs": []
    },
    {
      "cell_type": "code",
      "metadata": {
        "id": "GkDe50GuvQSO"
      },
      "source": [
        "c= p.Client(api_token = 'Tpk_3cd1f8cfeb4a4f849c4b5688a752e3d4', version = 'sandbox')"
      ],
      "execution_count": 427,
      "outputs": []
    },
    {
      "cell_type": "code",
      "metadata": {
        "id": "lCF18OKRvfj9"
      },
      "source": [
        "def get_data(symbol):\n",
        "    global stock\n",
        "    stock = c.chartDF(symbol, timeframe = '1y')\n",
        "    global stock_df\n",
        "    stock_df = stock[['open', 'close', 'high', 'low', 'volume']]\n",
        "    \n",
        "    return stock_df"
      ],
      "execution_count": 428,
      "outputs": []
    },
    {
      "cell_type": "code",
      "metadata": {
        "id": "8oD9uwlcvhbX",
        "colab": {
          "base_uri": "https://localhost:8080/"
        },
        "outputId": "bf172b37-5100-49a0-8ce5-d2c35f720184"
      },
      "source": [
        "tesla = get_data(\"TSLA\")\r\n",
        "\r\n",
        "print(tesla)"
      ],
      "execution_count": 429,
      "outputs": [
        {
          "output_type": "stream",
          "text": [
            "               open    close      high       low     volume\n",
            "date                                                       \n",
            "2021-01-22  842.530  861.400  848.0000  868.8400   20595642\n",
            "2021-01-21  866.000  848.100  859.4482  865.3367   21458679\n",
            "2021-01-20  897.570  877.390  887.7000  857.9600   26197982\n",
            "2021-01-19  847.700  850.590  874.0000  843.0000   25529833\n",
            "2021-01-15  865.000  862.550  892.0000  837.8000   40709062\n",
            "...             ...      ...       ...       ...        ...\n",
            "2020-01-30  132.492  134.201  134.5030  124.4000  146671564\n",
            "2020-01-29  115.978  116.389  122.5100  118.1240   91511517\n",
            "2020-01-28  117.706  117.070  119.2840  117.0350   60915861\n",
            "2020-01-27  113.135  115.637  114.7160  109.1620   68608501\n",
            "2020-01-24  118.072  118.390  119.7380  112.1720   74719504\n",
            "\n",
            "[252 rows x 5 columns]\n"
          ],
          "name": "stdout"
        }
      ]
    },
    {
      "cell_type": "code",
      "metadata": {
        "id": "mRSPKLV5vjOL",
        "colab": {
          "base_uri": "https://localhost:8080/",
          "height": 54
        },
        "outputId": "ecea0d35-cf40-4cc8-b36b-4a6338c024fb"
      },
      "source": [
        "'''def plot_closing(stockName):\n",
        "    x = stockName.index\n",
        "    y = stockName.close\n",
        "    plt.xlabel(\"Time\")\n",
        "    plt.ylabel(\"Close Price\")\n",
        "    plt.plot(x,y)\n",
        "    \n",
        "    return plt.show()'''"
      ],
      "execution_count": 430,
      "outputs": [
        {
          "output_type": "execute_result",
          "data": {
            "application/vnd.google.colaboratory.intrinsic+json": {
              "type": "string"
            },
            "text/plain": [
              "'def plot_closing(stockName):\\n    x = stockName.index\\n    y = stockName.close\\n    plt.xlabel(\"Time\")\\n    plt.ylabel(\"Close Price\")\\n    plt.plot(x,y)\\n    \\n    return plt.show()'"
            ]
          },
          "metadata": {
            "tags": []
          },
          "execution_count": 430
        }
      ]
    },
    {
      "cell_type": "code",
      "metadata": {
        "id": "8sz8yYS5vmhG"
      },
      "source": [
        "# plot_closing('tesla')"
      ],
      "execution_count": 431,
      "outputs": []
    },
    {
      "cell_type": "code",
      "metadata": {
        "colab": {
          "base_uri": "https://localhost:8080/"
        },
        "id": "JBtOFupnec8F",
        "outputId": "5bfac9e4-9c05-4c7c-83a1-5d2f3ebcd949"
      },
      "source": [
        "import numpy as np\r\n",
        "from sklearn import preprocessing\r\n",
        "\r\n",
        "stock_df = stock_df[['close']]\r\n",
        "\r\n",
        "forecast_price = int(30)\r\n",
        "\r\n",
        "stock_df['Prediction'] = stock_df[['close']].shift(-forecast_price)\r\n",
        "\r\n",
        "print(stock_df.tail())\r\n",
        "\r\n",
        "X = np.array(stock_df.drop(['Prediction'], 1))\r\n",
        "\r\n",
        "X = preprocessing.scale(X)"
      ],
      "execution_count": 435,
      "outputs": [
        {
          "output_type": "stream",
          "text": [
            "              close  Prediction\n",
            "date                           \n",
            "2020-01-30  134.201         NaN\n",
            "2020-01-29  116.389         NaN\n",
            "2020-01-28  117.070         NaN\n",
            "2020-01-27  115.637         NaN\n",
            "2020-01-24  118.390         NaN\n"
          ],
          "name": "stdout"
        }
      ]
    },
    {
      "cell_type": "code",
      "metadata": {
        "id": "nwT599MOgQo8"
      },
      "source": [
        "X_forecast = X[-forecast_price:] # set X_forecast equal to last 30\r\n",
        "X = X[:-forecast_price]\r\n",
        "\r\n",
        "y = np.array(stock_df['Prediction'])\r\n",
        "y = y[:-forecast_price]"
      ],
      "execution_count": 433,
      "outputs": []
    },
    {
      "cell_type": "code",
      "metadata": {
        "id": "DRNo_25F28w0",
        "colab": {
          "base_uri": "https://localhost:8080/"
        },
        "outputId": "beb35995-a849-4be8-c7fb-8ebaf482d6d2"
      },
      "source": [
        "# !pip install sklearn\r\n",
        "import sklearn\r\n",
        "from sklearn.model_selection import train_test_split\r\n",
        "from sklearn.linear_model import LinearRegression\r\n",
        "from sklearn.preprocessing import PolynomialFeatures\r\n",
        "\r\n",
        "# X = stock_df[['open', 'high', 'low', 'volume']]\r\n",
        "# y = stock_df['close']\r\n",
        "\r\n",
        "# transformer = PolynomialFeatures(degree=2)\r\n",
        "\r\n",
        "# transformer.fit(X)\r\n",
        "\r\n",
        "# X = transformer.transform(X)\r\n",
        "\r\n",
        "X_train, X_test, y_train, y_test = train_test_split(X, y, test_size=0.7)\r\n",
        "\r\n",
        "clf = LinearRegression().fit(X_train,y_train)\r\n",
        "\r\n",
        "print('Score', clf.score(X_test, y_test))\r\n",
        "\r\n",
        "clf.predict(X_forecast)\r\n"
      ],
      "execution_count": 434,
      "outputs": [
        {
          "output_type": "stream",
          "text": [
            "Score 0.8560130702579856\n"
          ],
          "name": "stdout"
        },
        {
          "output_type": "execute_result",
          "data": {
            "text/plain": [
              "array([136.32207588, 141.91659593, 145.78441226, 144.03130013,\n",
              "       142.65670854, 134.35092508, 135.01790672, 146.92200529,\n",
              "       151.76083854, 157.71627352, 163.3900188 , 163.74957945,\n",
              "       165.84261522, 158.82610387, 154.01977328, 152.2849439 ,\n",
              "       146.17308988, 148.29591974, 148.63855193, 142.76572787,\n",
              "       143.26613338, 144.82964667, 165.62051372, 148.76382259,\n",
              "       130.55623974, 131.29432093, 119.23312618, 119.69425764,\n",
              "       118.72391786, 120.58808074])"
            ]
          },
          "metadata": {
            "tags": []
          },
          "execution_count": 434
        }
      ]
    },
    {
      "cell_type": "code",
      "metadata": {
        "id": "4-BR8CPLeQ8e"
      },
      "source": [
        ""
      ],
      "execution_count": 434,
      "outputs": []
    }
  ]
}