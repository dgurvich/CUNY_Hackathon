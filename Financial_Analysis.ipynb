{
  "nbformat": 4,
  "nbformat_minor": 0,
  "metadata": {
    "colab": {
      "name": "Financial_Analysis.ipynb",
      "provenance": []
    },
    "kernelspec": {
      "name": "python3",
      "display_name": "Python 3"
    }
  },
  "cells": [
    {
      "cell_type": "code",
      "metadata": {
        "colab": {
          "base_uri": "https://localhost:8080/"
        },
        "id": "w7QVOJhqu0yv",
        "outputId": "07adf82d-cdca-4830-840a-73dd4acbcb1d"
      },
      "source": [
        "!pip install pyEX\n",
        "!pip install iexfinance"
      ],
      "execution_count": 24,
      "outputs": [
        {
          "output_type": "stream",
          "text": [
            "Requirement already satisfied: pyEX in /usr/local/lib/python3.6/dist-packages (0.3.0)\n",
            "Requirement already satisfied: sseclient>=0.0.22 in /usr/local/lib/python3.6/dist-packages (from pyEX) (0.0.27)\n",
            "Requirement already satisfied: pytz>=2019.1 in /usr/local/lib/python3.6/dist-packages (from pyEX) (2020.5)\n",
            "Requirement already satisfied: requests>=2.21.0 in /usr/local/lib/python3.6/dist-packages (from pyEX) (2.23.0)\n",
            "Requirement already satisfied: pandas>=0.22 in /usr/local/lib/python3.6/dist-packages (from pyEX) (1.1.5)\n",
            "Requirement already satisfied: socketIO-client-nexus>=0.7.6 in /usr/local/lib/python3.6/dist-packages (from pyEX) (0.7.6)\n",
            "Requirement already satisfied: temporal-cache>=0.1.1 in /usr/local/lib/python3.6/dist-packages (from pyEX) (0.1.4)\n",
            "Requirement already satisfied: deprecation>=2.0.6 in /usr/local/lib/python3.6/dist-packages (from pyEX) (2.1.0)\n",
            "Requirement already satisfied: six in /usr/local/lib/python3.6/dist-packages (from pyEX) (1.15.0)\n",
            "Requirement already satisfied: Pillow>=5.3.0 in /usr/local/lib/python3.6/dist-packages (from pyEX) (7.0.0)\n",
            "Requirement already satisfied: ipython>=7.2.0 in /usr/local/lib/python3.6/dist-packages (from pyEX) (7.16.1)\n",
            "Requirement already satisfied: idna<3,>=2.5 in /usr/local/lib/python3.6/dist-packages (from requests>=2.21.0->pyEX) (2.10)\n",
            "Requirement already satisfied: urllib3!=1.25.0,!=1.25.1,<1.26,>=1.21.1 in /usr/local/lib/python3.6/dist-packages (from requests>=2.21.0->pyEX) (1.24.3)\n",
            "Requirement already satisfied: chardet<4,>=3.0.2 in /usr/local/lib/python3.6/dist-packages (from requests>=2.21.0->pyEX) (3.0.4)\n",
            "Requirement already satisfied: certifi>=2017.4.17 in /usr/local/lib/python3.6/dist-packages (from requests>=2.21.0->pyEX) (2020.12.5)\n",
            "Requirement already satisfied: numpy>=1.15.4 in /usr/local/lib/python3.6/dist-packages (from pandas>=0.22->pyEX) (1.19.5)\n",
            "Requirement already satisfied: python-dateutil>=2.7.3 in /usr/local/lib/python3.6/dist-packages (from pandas>=0.22->pyEX) (2.8.1)\n",
            "Requirement already satisfied: websocket-client in /usr/local/lib/python3.6/dist-packages (from socketIO-client-nexus>=0.7.6->pyEX) (0.57.0)\n",
            "Requirement already satisfied: frozendict>=1.2 in /usr/local/lib/python3.6/dist-packages (from temporal-cache>=0.1.1->pyEX) (1.2)\n",
            "Requirement already satisfied: tzlocal>=2.0.0 in /usr/local/lib/python3.6/dist-packages (from temporal-cache>=0.1.1->pyEX) (2.1)\n",
            "Requirement already satisfied: packaging in /usr/local/lib/python3.6/dist-packages (from deprecation>=2.0.6->pyEX) (20.8)\n",
            "Requirement already satisfied: pickleshare in /usr/local/lib/python3.6/dist-packages (from ipython>=7.2.0->pyEX) (0.7.5)\n",
            "Requirement already satisfied: prompt-toolkit!=3.0.0,!=3.0.1,<3.1.0,>=2.0.0 in /usr/local/lib/python3.6/dist-packages (from ipython>=7.2.0->pyEX) (3.0.14)\n",
            "Requirement already satisfied: setuptools>=18.5 in /usr/local/lib/python3.6/dist-packages (from ipython>=7.2.0->pyEX) (51.3.3)\n",
            "Requirement already satisfied: traitlets>=4.2 in /usr/local/lib/python3.6/dist-packages (from ipython>=7.2.0->pyEX) (4.3.3)\n",
            "Requirement already satisfied: decorator in /usr/local/lib/python3.6/dist-packages (from ipython>=7.2.0->pyEX) (4.4.2)\n",
            "Requirement already satisfied: pygments in /usr/local/lib/python3.6/dist-packages (from ipython>=7.2.0->pyEX) (2.6.1)\n",
            "Requirement already satisfied: backcall in /usr/local/lib/python3.6/dist-packages (from ipython>=7.2.0->pyEX) (0.2.0)\n",
            "Requirement already satisfied: jedi>=0.10 in /usr/local/lib/python3.6/dist-packages (from ipython>=7.2.0->pyEX) (0.18.0)\n",
            "Requirement already satisfied: pexpect; sys_platform != \"win32\" in /usr/local/lib/python3.6/dist-packages (from ipython>=7.2.0->pyEX) (4.8.0)\n",
            "Requirement already satisfied: pyparsing>=2.0.2 in /usr/local/lib/python3.6/dist-packages (from packaging->deprecation>=2.0.6->pyEX) (2.4.7)\n",
            "Requirement already satisfied: wcwidth in /usr/local/lib/python3.6/dist-packages (from prompt-toolkit!=3.0.0,!=3.0.1,<3.1.0,>=2.0.0->ipython>=7.2.0->pyEX) (0.2.5)\n",
            "Requirement already satisfied: ipython-genutils in /usr/local/lib/python3.6/dist-packages (from traitlets>=4.2->ipython>=7.2.0->pyEX) (0.2.0)\n",
            "Requirement already satisfied: parso<0.9.0,>=0.8.0 in /usr/local/lib/python3.6/dist-packages (from jedi>=0.10->ipython>=7.2.0->pyEX) (0.8.1)\n",
            "Requirement already satisfied: ptyprocess>=0.5 in /usr/local/lib/python3.6/dist-packages (from pexpect; sys_platform != \"win32\"->ipython>=7.2.0->pyEX) (0.7.0)\n",
            "Requirement already satisfied: iexfinance in /usr/local/lib/python3.6/dist-packages (0.5.0)\n",
            "Requirement already satisfied: pandas in /usr/local/lib/python3.6/dist-packages (from iexfinance) (1.1.5)\n",
            "Requirement already satisfied: requests in /usr/local/lib/python3.6/dist-packages (from iexfinance) (2.23.0)\n",
            "Requirement already satisfied: python-dateutil>=2.7.3 in /usr/local/lib/python3.6/dist-packages (from pandas->iexfinance) (2.8.1)\n",
            "Requirement already satisfied: pytz>=2017.2 in /usr/local/lib/python3.6/dist-packages (from pandas->iexfinance) (2020.5)\n",
            "Requirement already satisfied: numpy>=1.15.4 in /usr/local/lib/python3.6/dist-packages (from pandas->iexfinance) (1.19.5)\n",
            "Requirement already satisfied: certifi>=2017.4.17 in /usr/local/lib/python3.6/dist-packages (from requests->iexfinance) (2020.12.5)\n",
            "Requirement already satisfied: chardet<4,>=3.0.2 in /usr/local/lib/python3.6/dist-packages (from requests->iexfinance) (3.0.4)\n",
            "Requirement already satisfied: urllib3!=1.25.0,!=1.25.1,<1.26,>=1.21.1 in /usr/local/lib/python3.6/dist-packages (from requests->iexfinance) (1.24.3)\n",
            "Requirement already satisfied: idna<3,>=2.5 in /usr/local/lib/python3.6/dist-packages (from requests->iexfinance) (2.10)\n",
            "Requirement already satisfied: six>=1.5 in /usr/local/lib/python3.6/dist-packages (from python-dateutil>=2.7.3->pandas->iexfinance) (1.15.0)\n"
          ],
          "name": "stdout"
        }
      ]
    },
    {
      "cell_type": "code",
      "metadata": {
        "id": "81kwrtiqvL73"
      },
      "source": [
        "import pandas as pd\n",
        "import matplotlib.pyplot as plt\n",
        "import numpy as np\n",
        "from iexfinance.stocks import Stock\n",
        "import pyEX as p"
      ],
      "execution_count": 25,
      "outputs": []
    },
    {
      "cell_type": "code",
      "metadata": {
        "id": "GkDe50GuvQSO"
      },
      "source": [
        "c= p.Client(api_token = 'Tpk_3cd1f8cfeb4a4f849c4b5688a752e3d4', version = 'sandbox')"
      ],
      "execution_count": 26,
      "outputs": []
    },
    {
      "cell_type": "code",
      "metadata": {
        "id": "lCF18OKRvfj9"
      },
      "source": [
        "def get_data(symbol):\n",
        "    stock = c.chartDF(symbol, timeframe = '5y')\n",
        "    stock_df= stock[['open', 'close', 'high', 'low']]\n",
        "    \n",
        "    return stock_df"
      ],
      "execution_count": 27,
      "outputs": []
    },
    {
      "cell_type": "code",
      "metadata": {
        "colab": {
          "base_uri": "https://localhost:8080/",
          "height": 235
        },
        "id": "8oD9uwlcvhbX",
        "outputId": "33d8335e-1a38-4027-a0d9-9707e1c55f00"
      },
      "source": [
        "tesla= get_data(\"TSLA\")\n",
        "\n",
        "tesla.head()"
      ],
      "execution_count": 28,
      "outputs": [
        {
          "output_type": "execute_result",
          "data": {
            "text/html": [
              "<div>\n",
              "<style scoped>\n",
              "    .dataframe tbody tr th:only-of-type {\n",
              "        vertical-align: middle;\n",
              "    }\n",
              "\n",
              "    .dataframe tbody tr th {\n",
              "        vertical-align: top;\n",
              "    }\n",
              "\n",
              "    .dataframe thead th {\n",
              "        text-align: right;\n",
              "    }\n",
              "</style>\n",
              "<table border=\"1\" class=\"dataframe\">\n",
              "  <thead>\n",
              "    <tr style=\"text-align: right;\">\n",
              "      <th></th>\n",
              "      <th>open</th>\n",
              "      <th>close</th>\n",
              "      <th>high</th>\n",
              "      <th>low</th>\n",
              "    </tr>\n",
              "    <tr>\n",
              "      <th>date</th>\n",
              "      <th></th>\n",
              "      <th></th>\n",
              "      <th></th>\n",
              "      <th></th>\n",
              "    </tr>\n",
              "  </thead>\n",
              "  <tbody>\n",
              "    <tr>\n",
              "      <th>2021-01-22</th>\n",
              "      <td>835.37</td>\n",
              "      <td>888.81</td>\n",
              "      <td>880.0000</td>\n",
              "      <td>834.9900</td>\n",
              "    </tr>\n",
              "    <tr>\n",
              "      <th>2021-01-21</th>\n",
              "      <td>889.00</td>\n",
              "      <td>879.47</td>\n",
              "      <td>858.2105</td>\n",
              "      <td>841.5035</td>\n",
              "    </tr>\n",
              "    <tr>\n",
              "      <th>2021-01-20</th>\n",
              "      <td>891.15</td>\n",
              "      <td>859.37</td>\n",
              "      <td>888.3000</td>\n",
              "      <td>874.1000</td>\n",
              "    </tr>\n",
              "    <tr>\n",
              "      <th>2021-01-19</th>\n",
              "      <td>867.80</td>\n",
              "      <td>867.66</td>\n",
              "      <td>874.0000</td>\n",
              "      <td>858.0000</td>\n",
              "    </tr>\n",
              "    <tr>\n",
              "      <th>2021-01-15</th>\n",
              "      <td>878.00</td>\n",
              "      <td>841.09</td>\n",
              "      <td>889.1000</td>\n",
              "      <td>853.6000</td>\n",
              "    </tr>\n",
              "  </tbody>\n",
              "</table>\n",
              "</div>"
            ],
            "text/plain": [
              "              open   close      high       low\n",
              "date                                          \n",
              "2021-01-22  835.37  888.81  880.0000  834.9900\n",
              "2021-01-21  889.00  879.47  858.2105  841.5035\n",
              "2021-01-20  891.15  859.37  888.3000  874.1000\n",
              "2021-01-19  867.80  867.66  874.0000  858.0000\n",
              "2021-01-15  878.00  841.09  889.1000  853.6000"
            ]
          },
          "metadata": {
            "tags": []
          },
          "execution_count": 28
        }
      ]
    },
    {
      "cell_type": "code",
      "metadata": {
        "id": "mRSPKLV5vjOL"
      },
      "source": [
        "def scatter_plot(df):\n",
        "    x = df[\"open\"]\n",
        "    y= df[\"close\"]\n",
        "    plt.xlabel(\"Open Price\")\n",
        "    plt.ylabel(\"Close Price\")\n",
        "    plt.title(\"Tesla Stock - Open/Close\")\n",
        "    return plt.scatter(x,y)"
      ],
      "execution_count": 29,
      "outputs": []
    },
    {
      "cell_type": "code",
      "metadata": {
        "colab": {
          "base_uri": "https://localhost:8080/",
          "height": 312
        },
        "id": "57PLaUN7vo3A",
        "outputId": "306bd2ad-d2b0-42e2-cd6d-e524a0e928c1"
      },
      "source": [
        "scatter_plot(tesla) ##Clear linear relationship between Open/Close price thus we can use a linear regression model"
      ],
      "execution_count": 30,
      "outputs": [
        {
          "output_type": "execute_result",
          "data": {
            "text/plain": [
              "<matplotlib.collections.PathCollection at 0x7fbb3b126080>"
            ]
          },
          "metadata": {
            "tags": []
          },
          "execution_count": 30
        },
        {
          "output_type": "display_data",
          "data": {
            "image/png": "[encoded data removed]",
            "text/plain": [
              "<Figure size 432x288 with 1 Axes>"
            ]
          },
          "metadata": {
            "tags": [],
            "needs_background": "light"
          }
        }
      ]
    },
    {
      "cell_type": "markdown",
      "metadata": {
        "id": "xG3ih8Sg0qZF"
      },
      "source": [
        "Linear Regression Model"
      ]
    },
    {
      "cell_type": "code",
      "metadata": {
        "id": "dWQhGFux1XnV"
      },
      "source": [
        "from sklearn import linear_model"
      ],
      "execution_count": 31,
      "outputs": []
    },
    {
      "cell_type": "code",
      "metadata": {
        "id": "aU4-IkIZ2JI-"
      },
      "source": [
        "from sklearn.model_selection import train_test_split"
      ],
      "execution_count": 32,
      "outputs": []
    },
    {
      "cell_type": "code",
      "metadata": {
        "id": "Cy_zJsEe2NU-"
      },
      "source": [
        "reg= linear_model.LinearRegression()"
      ],
      "execution_count": 33,
      "outputs": []
    },
    {
      "cell_type": "code",
      "metadata": {
        "id": "i6RHSzaq2UJk"
      },
      "source": [
        "y = tesla[\"close\"]\n",
        "X = tesla[[\"open\"]]\n",
        "\n",
        "x_train, x_test, y_train, y_test= train_test_split(X, y, test_size= 0.2, random_state= 42)"
      ],
      "execution_count": 34,
      "outputs": []
    },
    {
      "cell_type": "code",
      "metadata": {
        "colab": {
          "base_uri": "https://localhost:8080/"
        },
        "id": "RKRHkA4K2tIy",
        "outputId": "8a40bb7e-3482-4229-f1f5-9aafe0ee256a"
      },
      "source": [
        "print(x_train.shape)\n",
        "print(y_train.shape)\n",
        "print(x_test.shape)\n",
        "print(y_test.shape)"
      ],
      "execution_count": 35,
      "outputs": [
        {
          "output_type": "stream",
          "text": [
            "(1007, 1)\n",
            "(1007,)\n",
            "(252, 1)\n",
            "(252,)\n"
          ],
          "name": "stdout"
        }
      ]
    },
    {
      "cell_type": "code",
      "metadata": {
        "colab": {
          "base_uri": "https://localhost:8080/"
        },
        "id": "jg5Plxat2u9x",
        "outputId": "60364187-7906-421b-c957-db05e31fbc6e"
      },
      "source": [
        "reg.fit(x_train, y_train)"
      ],
      "execution_count": 36,
      "outputs": [
        {
          "output_type": "execute_result",
          "data": {
            "text/plain": [
              "LinearRegression(copy_X=True, fit_intercept=True, n_jobs=None, normalize=False)"
            ]
          },
          "metadata": {
            "tags": []
          },
          "execution_count": 36
        }
      ]
    },
    {
      "cell_type": "code",
      "metadata": {
        "colab": {
          "base_uri": "https://localhost:8080/"
        },
        "id": "cHZZl0tR4stB",
        "outputId": "4a18cc8a-9726-49e2-a7c5-ed78fa3bddb5"
      },
      "source": [
        "print (reg.coef_)"
      ],
      "execution_count": 37,
      "outputs": [
        {
          "output_type": "stream",
          "text": [
            "[0.99828869]\n"
          ],
          "name": "stdout"
        }
      ]
    },
    {
      "cell_type": "code",
      "metadata": {
        "colab": {
          "base_uri": "https://localhost:8080/"
        },
        "id": "Hr5qorUq56-K",
        "outputId": "291b4dbb-8c7c-4c5c-9c85-70210582b7f9"
      },
      "source": [
        "y_pred= reg.predict(x_test)\n",
        "print (y_pred.shape)"
      ],
      "execution_count": 38,
      "outputs": [
        {
          "output_type": "stream",
          "text": [
            "(252,)\n"
          ],
          "name": "stdout"
        }
      ]
    },
    {
      "cell_type": "code",
      "metadata": {
        "colab": {
          "base_uri": "https://localhost:8080/"
        },
        "id": "q9Lmwf5R6AA7",
        "outputId": "29dc3110-6193-42c0-bb6d-8d1087e70143"
      },
      "source": [
        "y_pred"
      ],
      "execution_count": 39,
      "outputs": [
        {
          "output_type": "execute_result",
          "data": {
            "text/plain": [
              "array([422.26795694,  42.50196888, 461.31102755,  57.4862821 ,\n",
              "        75.98157663, 450.60438137,  79.43365892,  42.75852908,\n",
              "        68.87875261,  55.88802191, 434.86636019,  62.71531825,\n",
              "        44.95077104,  61.0072463 ,  75.7819189 ,  59.72614243,\n",
              "        46.10479276,  73.40100037,  44.36178071,  64.5911027 ,\n",
              "        62.35393774,  68.89372694,  65.23699548,  77.64672217,\n",
              "        43.39743384,  57.82270539, 107.33782434, 407.59311322,\n",
              "        70.76052679,  64.43137651,  47.73000675,  52.51180956,\n",
              "        60.02193537,  65.4995454 ,  40.21089634,  73.00667634,\n",
              "        64.33154764,  49.94620763,  66.78334466,  70.79846176,\n",
              "        76.0814055 , 152.64016503,  51.09224305,  88.36035637,\n",
              "        38.06856882, 440.32699932,  46.8245589 ,  49.42709752,\n",
              "        68.36962538,  78.164834  ,  49.15256813,  51.43365778,\n",
              "       435.4653334 ,  52.0675711 ,  72.48756622,  38.34908794,\n",
              "        51.5734182 ,  44.73514068,  45.54674938,  69.90199852,\n",
              "       651.04577571,  97.21517704,  53.47615644,  50.48528353,\n",
              "        70.99312806,  43.94649262,  45.48086233,  40.1619802 ,\n",
              "       436.28393013,  68.0591576 , 116.96931361,  62.32398908,\n",
              "        68.48642516,  69.65741779, 425.69208714, 158.83953779,\n",
              "        72.74712128,  49.02778204, 141.9994059 , 173.41455264,\n",
              "        45.3071601 ,  42.05773042,  63.63873529,  67.46417754,\n",
              "        61.60621952, 165.82755861,  75.98157663,  55.18722325,\n",
              "        70.7505439 ,  37.3378215 ,  67.60493625,  71.56015603,\n",
              "        56.70462206,  43.67695467,  53.81956775,  73.68551265,\n",
              "        76.61049851,  62.17724065,  40.58126145,  62.35892919,\n",
              "       480.90743451,  50.49326984,  75.98157663, 682.83128756,\n",
              "       622.28457945,  66.99697844,  30.85892791,  47.84980139,\n",
              "       169.62135511, 465.05461013,  74.98328794,  46.04289886,\n",
              "        69.67239212, 204.9604752 , 135.20505309, 314.07342887,\n",
              "       119.9881386 ,  48.0604403 ,  31.15841451, 111.17125291,\n",
              "       182.22944176,  38.35607596,  62.38488469, 334.90272236,\n",
              "        55.49669274,  69.55259748,  65.32983633, 447.3449688 ,\n",
              "        52.01266522, 279.93195572,  73.3416022 ,  50.11591671,\n",
              "        34.73228802,  59.56172428, 384.45278142,  45.80730273,\n",
              "        50.41041187,  73.52578646,  45.12447327, 111.23514338,\n",
              "        50.02607073,  47.03120466,  47.13103353,  41.13131851,\n",
              "        45.57470147,  64.10194124,  61.73799362,  45.99697758,\n",
              "        57.41340702,  65.29988766,  61.3336867 ,  67.79560939,\n",
              "        50.71988137, 418.86379251,  69.69235789,  64.39244325,\n",
              "       422.39953139, 345.31986482,  56.49198657,  62.16825605,\n",
              "        70.33126266,  40.89971554,  58.07227756,  56.83439959,\n",
              "        99.24170308,  55.79118791,  48.22715451,  74.14472545,\n",
              "        71.50924331,  70.12561519,  46.22758227,  42.54090214,\n",
              "        46.8425281 ,  70.33725239,  61.80587725,  38.66554545,\n",
              "        65.06129667,  64.58111981,  40.34267045,  51.82299037,\n",
              "        64.62105136, 171.81729074,  69.61848453,  51.00139878,\n",
              "        64.43137651,  44.59538026,  70.75553535,  63.9551928 ,\n",
              "        64.30159898,  69.80616281,  45.23428502,  47.10407974,\n",
              "        66.0555922 ,  63.70262576,  47.70305295,  70.67247773,\n",
              "        42.14957298, 791.76454926, 199.75439969,  72.16811384,\n",
              "        46.3483752 ,  68.52635671,  48.01751389,  50.16682943,\n",
              "       130.70077452,  41.71731397,  57.08397176,  62.48371527,\n",
              "        74.22458854,  47.79190064,  66.611639  ,  68.28676742,\n",
              "        57.02107957,  53.22059453,  60.46817041, 279.73229798,\n",
              "        47.03120466,  41.91996658,  49.73556872,  48.8281243 ,\n",
              "        40.60522037,  52.41198069,  39.64786152, 186.99127881,\n",
              "       252.66569677,  62.21717219,  39.97430192,  41.23114738,\n",
              "        70.51494777,  43.14187193,  52.90713188,  63.4430707 ,\n",
              "       461.76025746,  65.79903201,  70.26737218,  72.78705283,\n",
              "        66.18736631, 176.71988649,  70.69164487, 409.19037512,\n",
              "       175.5189452 ,  47.08810712,  71.24968825, 174.11335472,\n",
              "        65.28690991,  47.92467304, 123.55103093,  50.22572847,\n",
              "       612.12249974, 201.95462796,  47.28277341,  70.54090328])"
            ]
          },
          "metadata": {
            "tags": []
          },
          "execution_count": 39
        }
      ]
    },
    {
      "cell_type": "code",
      "metadata": {
        "id": "QC17BTHi6T41"
      },
      "source": [
        ""
      ],
      "execution_count": null,
      "outputs": []
    }
  ]
}